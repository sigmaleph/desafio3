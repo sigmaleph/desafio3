{
 "cells": [
  {
   "cell_type": "code",
   "execution_count": 1,
   "metadata": {},
   "outputs": [],
   "source": [
    "import pandas as pd\n",
    "from sklearn.base import BaseEstimator, TransformerMixin\n"
   ]
  },
  {
   "cell_type": "code",
   "execution_count": 2,
   "metadata": {},
   "outputs": [],
   "source": [
    "df=pd.read_csv('train/train_data.csv')"
   ]
  },
  {
   "cell_type": "code",
   "execution_count": 3,
   "metadata": {},
   "outputs": [],
   "source": [
    "categ=df['action_categorical_4']"
   ]
  },
  {
   "cell_type": "code",
   "execution_count": 5,
   "metadata": {},
   "outputs": [],
   "source": [
    "label=df['Label']"
   ]
  },
  {
   "cell_type": "code",
   "execution_count": 21,
   "metadata": {},
   "outputs": [],
   "source": [
    "df0=pd.get_dummies(categ)"
   ]
  },
  {
   "cell_type": "code",
   "execution_count": 34,
   "metadata": {},
   "outputs": [],
   "source": [
    "col_data=[]\n",
    "for col in df0.columns:\n",
    "    correlation=pd.concat([df0[col], label], axis=1).corr().iloc[0,1]\n",
    "    pop=df0[col].sum()\n",
    "    col_data.append({'hash':col,'corr':correlation, 'pop':pop})\n"
   ]
  },
  {
   "cell_type": "code",
   "execution_count": 43,
   "metadata": {},
   "outputs": [],
   "source": [
    "class HCPicker(BaseEstimator, TransformerMixin):\n",
    "    \n",
    "    def fit(self,X,y, n_cols=20, by='corr'):\n",
    "        df0=pd.get_dummies(X)\n",
    "        col_data=[]\n",
    "        for col in df0.columns:\n",
    "            correlation=abs(pd.concat([df0[col], y], axis=1).corr().iloc[0,1])\n",
    "            pop=df0[col].sum()\n",
    "            col_data.append({'hash':col,'corr':correlation, 'pop':pop})\n",
    "        df1=pd.DataFrame(col_data)\n",
    "        self.columns_=df1.sort_values(by=by, ascending=False).head(n_cols)['hash']\n"
   ]
  },
  {
   "cell_type": "code",
   "execution_count": 36,
   "metadata": {},
   "outputs": [],
   "source": [
    "df1=pd.DataFrame(col_data)"
   ]
  },
  {
   "cell_type": "code",
   "execution_count": 42,
   "metadata": {},
   "outputs": [
    {
     "data": {
      "text/plain": [
       "38     113da814\n",
       "476    de5febb8\n",
       "40     11a8337e\n",
       "27     0ccf5173\n",
       "145    44d675cc\n",
       "444    cf391ee7\n",
       "250    72122368\n",
       "435    cd404818\n",
       "368    a708c7b9\n",
       "95     2c3ce269\n",
       "461    d84e1892\n",
       "122    39fd7da2\n",
       "446    d025987c\n",
       "124    3a31b190\n",
       "113    32f7d161\n",
       "211    63ceecab\n",
       "333    989f2aee\n",
       "14     05e227e0\n",
       "141    3fd2b739\n",
       "533    f30e88f2\n",
       "Name: hash, dtype: object"
      ]
     },
     "execution_count": 42,
     "metadata": {},
     "output_type": "execute_result"
    }
   ],
   "source": [
    "df1.sort_values(by='corr', ascending=False).head(20)['hash']"
   ]
  },
  {
   "cell_type": "code",
   "execution_count": null,
   "metadata": {},
   "outputs": [],
   "source": []
  }
 ],
 "metadata": {
  "kernelspec": {
   "display_name": "Python 3",
   "language": "python",
   "name": "python3"
  },
  "language_info": {
   "codemirror_mode": {
    "name": "ipython",
    "version": 3
   },
   "file_extension": ".py",
   "mimetype": "text/x-python",
   "name": "python",
   "nbconvert_exporter": "python",
   "pygments_lexer": "ipython3",
   "version": "3.6.5"
  }
 },
 "nbformat": 4,
 "nbformat_minor": 2
}
